{
 "cells": [
  {
   "cell_type": "code",
   "execution_count": 2,
   "metadata": {},
   "outputs": [],
   "source": [
    "from py_vollib.black_scholes import black_scholes as bs\n",
    "from py_vollib.black_scholes.greeks.analytical import vega"
   ]
  },
  {
   "cell_type": "code",
   "execution_count": 4,
   "metadata": {},
   "outputs": [],
   "source": [
    "def implied_vol(S0,K,T,r,market_price,flag='c',tol=0.0001):\n",
    "    \"\"\"Calculating the implied volatility of a European option\n",
    "    S0: Stock Price\n",
    "    K: Strike Price\n",
    "    T: Time to maturity\n",
    "    r: risk free rate\n",
    "    market price: option price in market\n",
    "    \"\"\"\n",
    "    max_iter = 200 # max num of interations\n",
    "    \n",
    "    vol_old = 0.3 # inital guess \n",
    "    for k in range(max_iter):\n",
    "        bs_price = bs(flag,S0,K,T,r,vol_old)\n",
    "        Cprime = vega(flag,S0,K,T,r,vol_old)*100\n",
    "        C = bs_price - market_price\n",
    "        \n",
    "        \n",
    "        vol_new = vol_old - C/Cprime\n",
    "        \n",
    "        new_bs_price = bs(flag,S0,K,T,r,vol_new)\n",
    "        \n",
    "        if (abs(vol_old - vol_new) < tol or abs(market_price - new_bs_price)<tol):\n",
    "            break\n",
    "        vol_old = vol_new\n",
    "        \n",
    "    implied_vol = vol_new\n",
    "    \n",
    "    return implied_vol"
   ]
  }
 ],
 "metadata": {
  "kernelspec": {
   "display_name": "Python 3",
   "language": "python",
   "name": "python3"
  },
  "language_info": {
   "codemirror_mode": {
    "name": "ipython",
    "version": 3
   },
   "file_extension": ".py",
   "mimetype": "text/x-python",
   "name": "python",
   "nbconvert_exporter": "python",
   "pygments_lexer": "ipython3",
   "version": "3.7.3"
  }
 },
 "nbformat": 4,
 "nbformat_minor": 2
}
